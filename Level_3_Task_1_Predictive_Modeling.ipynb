{
 "cells": [
  {
   "cell_type": "markdown",
   "id": "7f6cb93d-57fc-4035-bd4d-26d336897062",
   "metadata": {},
   "source": [
    "#  Level 3 - Task 1: Predictive Modeling"
   ]
  },
  {
   "cell_type": "markdown",
   "id": "6aea9e53-43a9-4626-9495-c6e3732e666b",
   "metadata": {},
   "source": [
    "# Overview of Problem Statement"
   ]
  },
  {
   "cell_type": "markdown",
   "id": "4053e56e-6659-406d-af9a-ff9e198df307",
   "metadata": {},
   "source": [
    "Predicting restaurant ratings using existing attributes helps platforms and businesses improve decision-making and user experience.\n",
    "\n"
   ]
  },
  {
   "cell_type": "markdown",
   "id": "cbe2838b-3dfa-4d7c-9cd3-3778ebf66988",
   "metadata": {},
   "source": [
    "# Objective"
   ]
  },
  {
   "cell_type": "markdown",
   "id": "8e5d3b5b-2004-4382-b150-aedc652f7d7a",
   "metadata": {},
   "source": [
    "1.Build regression models to predict aggregate rating using features like price, votes, and service options\n",
    "\n",
    "2.Split the dataset into training and testing sets\n",
    "\n",
    "3.Compare model performance (Linear Regression, Decision Tree, Random Forest) using evaluation metrics\n",
    "\n"
   ]
  },
  {
   "cell_type": "markdown",
   "id": "313290fb-124c-458d-90e7-2fb6baa570f8",
   "metadata": {},
   "source": [
    "# Importing necessary libraries"
   ]
  },
  {
   "cell_type": "code",
   "execution_count": 1,
   "id": "3a1f3827",
   "metadata": {},
   "outputs": [],
   "source": [
    "##  Import Libraries\n",
    "import pandas as pd\n",
    "from sklearn.model_selection import train_test_split\n",
    "from sklearn.linear_model import LinearRegression\n",
    "from sklearn.tree import DecisionTreeRegressor\n",
    "from sklearn.ensemble import RandomForestRegressor\n",
    "from sklearn.metrics import mean_squared_error, mean_absolute_error, r2_score\n",
    "import warnings\n",
    "warnings.filterwarnings('ignore')"
   ]
  },
  {
   "cell_type": "markdown",
   "id": "fae85f71-1568-4e0b-8e9e-6e9faeb92795",
   "metadata": {},
   "source": [
    "#  Data collection"
   ]
  },
  {
   "cell_type": "code",
   "execution_count": 2,
   "id": "0ed40eb4",
   "metadata": {},
   "outputs": [],
   "source": [
    "##  Load Dataset\n",
    "df = pd.read_csv(\"Dataset .csv\")\n",
    "df.dropna(subset=['Cuisines'], inplace=True)"
   ]
  },
  {
   "cell_type": "code",
   "execution_count": 3,
   "id": "4e44e2ff",
   "metadata": {},
   "outputs": [],
   "source": [
    "# Feature Engineering\n",
    "df['Has_Table_Booking_Flag'] = df['Has Table booking'].apply(lambda x: 1 if x.lower() == 'yes' else 0)\n",
    "df['Has_Online_Delivery_Flag'] = df['Has Online delivery'].apply(lambda x: 1 if x.lower() == 'yes' else 0)"
   ]
  },
  {
   "cell_type": "code",
   "execution_count": 4,
   "id": "bfda6345",
   "metadata": {},
   "outputs": [],
   "source": [
    "# Select features and target\n",
    "features = ['Average Cost for two', 'Price range', 'Votes', 'Has_Table_Booking_Flag', 'Has_Online_Delivery_Flag']\n",
    "target = 'Aggregate rating'"
   ]
  },
  {
   "cell_type": "code",
   "execution_count": 5,
   "id": "834da4e7",
   "metadata": {},
   "outputs": [],
   "source": [
    "X = df[features]\n",
    "y = df[target]"
   ]
  },
  {
   "cell_type": "markdown",
   "id": "4d67ec87-77f7-44ad-8f84-b28ed3332bff",
   "metadata": {},
   "source": [
    "#  Split Data"
   ]
  },
  {
   "cell_type": "code",
   "execution_count": 6,
   "id": "ad205aec",
   "metadata": {},
   "outputs": [],
   "source": [
    "##  Split Data\n",
    "X_train, X_test, y_train, y_test = train_test_split(X, y, test_size=0.2, random_state=42)"
   ]
  },
  {
   "cell_type": "code",
   "execution_count": 7,
   "id": "c3a9660a",
   "metadata": {},
   "outputs": [],
   "source": [
    "##  Initialize Models\n",
    "models = {\n",
    "    \"Linear Regression\": LinearRegression(),\n",
    "    \"Decision Tree\": DecisionTreeRegressor(random_state=42),\n",
    "    \"Random Forest\": RandomForestRegressor(random_state=42)\n",
    "}"
   ]
  },
  {
   "cell_type": "markdown",
   "id": "bdb1926b-f19b-479a-8dcd-8c9c13486138",
   "metadata": {},
   "source": [
    "#  Train and Evaluate Models"
   ]
  },
  {
   "cell_type": "code",
   "execution_count": 8,
   "id": "0cdaa045",
   "metadata": {},
   "outputs": [
    {
     "name": "stdout",
     "output_type": "stream",
     "text": [
      "\n",
      " Linear Regression Results:\n",
      "MAE: 1.0495250136543057\n",
      "MSE: 1.6275791725010238\n",
      "RMSE: 1.2757661119895856\n",
      "R2 Score: 0.2892767308287971\n",
      "\n",
      " Decision Tree Results:\n",
      "MAE: 0.2907853323694694\n",
      "MSE: 0.20431741306022874\n",
      "RMSE: 0.45201483721248437\n",
      "R2 Score: 0.9107796768278703\n",
      "\n",
      " Random Forest Results:\n",
      "MAE: 0.23567716914785236\n",
      "MSE: 0.13104481072995472\n",
      "RMSE: 0.3620011197910232\n",
      "R2 Score: 0.9427759964839091\n"
     ]
    }
   ],
   "source": [
    "##  Train and Evaluate Models\n",
    "for name, model in models.items():\n",
    "    model.fit(X_train, y_train)\n",
    "    y_pred = model.predict(X_test)\n",
    "    print(f\"\\n {name} Results:\")\n",
    "    print(\"MAE:\", mean_absolute_error(y_test, y_pred))\n",
    "    print(\"MSE:\", mean_squared_error(y_test, y_pred))\n",
    "    print(\"RMSE:\", mean_squared_error(y_test, y_pred, squared=False))\n",
    "    print(\"R2 Score:\", r2_score(y_test, y_pred))"
   ]
  },
  {
   "cell_type": "markdown",
   "id": "ca6cb8d1-0d3d-49a4-b784-86067318d287",
   "metadata": {},
   "source": [
    "# Conclusion"
   ]
  },
  {
   "cell_type": "markdown",
   "id": "a2611fb2-99a4-4baf-a4b1-5e196c6f231c",
   "metadata": {},
   "source": [
    "\n",
    "1.Models were trained and evaluated successfully\n",
    "\n",
    "2.Random Forest Regressor performed the best with the lowest error and highest R² score, capturing complex patterns more effectively than simpler models\n",
    "\n",
    "3.The model can be used to estimate ratings based on restaurant features, aiding in platform recommendations and business insights\n",
    "\n"
   ]
  }
 ],
 "metadata": {
  "kernelspec": {
   "display_name": "Python [conda env:base] *",
   "language": "python",
   "name": "conda-base-py"
  },
  "language_info": {
   "codemirror_mode": {
    "name": "ipython",
    "version": 3
   },
   "file_extension": ".py",
   "mimetype": "text/x-python",
   "name": "python",
   "nbconvert_exporter": "python",
   "pygments_lexer": "ipython3",
   "version": "3.12.7"
  }
 },
 "nbformat": 4,
 "nbformat_minor": 5
}
